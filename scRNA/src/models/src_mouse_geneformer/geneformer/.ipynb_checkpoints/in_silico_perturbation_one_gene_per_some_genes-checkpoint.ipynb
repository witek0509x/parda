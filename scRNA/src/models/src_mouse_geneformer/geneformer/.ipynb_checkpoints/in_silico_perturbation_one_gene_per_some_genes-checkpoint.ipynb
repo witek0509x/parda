{
 "cells": [
  {
   "cell_type": "code",
   "execution_count": null,
   "id": "54f21563-f29a-4b36-99a4-1112dcd1e9c8",
   "metadata": {},
   "outputs": [],
   "source": []
  },
  {
   "cell_type": "code",
   "execution_count": null,
   "id": "b9e50e37-4f75-418d-ba8f-e6e4b3976f3a",
   "metadata": {},
   "outputs": [],
   "source": [
    "from geneformer import InSilicoPerturber\n",
    "from geneformer import InSilicoPerturberStats\n",
    "\n",
    "from geneformer.tokenizer import TOKEN_DICTIONARY_FILE, ORGANISM\n",
    "from geneformer.in_silico_perturber_stats import GENE_NAME_ID_DICTIONARY_FILE\n",
    "from geneformer.in_silico_perturber import ISP_device\n",
    "\n",
    "print(f\"device: {ISP_device}\")\n",
    "print(f\"organism: {ORGANISM}\")\n",
    "print(f\"gene to ens dict: {GENE_NAME_ID_DICTIONARY_FILE}\")\n",
    "print(f\"token directory : {TOKEN_DICTIONARY_FILE}\")\n"
   ]
  },
  {
   "cell_type": "code",
   "execution_count": null,
   "id": "11ed6363-0a48-4751-a24b-eafcedefb626",
   "metadata": {},
   "outputs": [],
   "source": [
    "import sys\n",
    "import csv\n",
    "import pandas as pd\n",
    "\n",
    "perturb_genes_list = pd.read_csv(\"path/to/in silico perturbation with all genes result sorted by cosine sililarity largest order\")\n",
    "\n",
    "print(len(perturb_genes_list))\n",
    "print(perturb_genes_list)"
   ]
  },
  {
   "cell_type": "code",
   "execution_count": null,
   "id": "e4c03d1e-69cd-4c4c-876c-371d087dad4b",
   "metadata": {},
   "outputs": [],
   "source": []
  }
 ],
 "metadata": {
  "kernelspec": {
   "display_name": "Python 3 (ipykernel)",
   "language": "python",
   "name": "python3"
  },
  "language_info": {
   "codemirror_mode": {
    "name": "ipython",
    "version": 3
   },
   "file_extension": ".py",
   "mimetype": "text/x-python",
   "name": "python",
   "nbconvert_exporter": "python",
   "pygments_lexer": "ipython3",
   "version": "3.8.10"
  }
 },
 "nbformat": 4,
 "nbformat_minor": 5
}
